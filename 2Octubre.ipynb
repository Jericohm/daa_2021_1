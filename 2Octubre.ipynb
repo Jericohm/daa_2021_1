{
  "nbformat": 4,
  "nbformat_minor": 0,
  "metadata": {
    "colab": {
      "name": "2Octubre.ipynb",
      "provenance": [],
      "toc_visible": true,
      "authorship_tag": "ABX9TyPjNvSZX6DVJ7hSJOO8ZXEF",
      "include_colab_link": true
    },
    "kernelspec": {
      "name": "python3",
      "display_name": "Python 3"
    }
  },
  "cells": [
    {
      "cell_type": "markdown",
      "metadata": {
        "id": "view-in-github",
        "colab_type": "text"
      },
      "source": [
        "<a href=\"https://colab.research.google.com/github/Jericohm/daa_2021_1/blob/master/2Octubre.ipynb\" target=\"_parent\"><img src=\"https://colab.research.google.com/assets/colab-badge.svg\" alt=\"Open In Colab\"/></a>"
      ]
    },
    {
      "cell_type": "markdown",
      "metadata": {
        "id": "_on0rz09iG7R"
      },
      "source": [
        "## Meteorología en México\n",
        "En Sistema meteorológico nacional lleva el registro de la lluvias desde el año 1985 y lo pone a disposición de la población por medio de la pagina datos.gob.mx.\n",
        "\n",
        "En la siguiente liga se encuentran 2  archivos separados por comas CSV correspondientes a los registros de lluvias\n",
        "mensuales y anuales de los años 2017 y 2018. En los columnas se encuentran 13,  correspondientes al promedio mensual y el promedio anual.\n",
        "En los renglones se encuentran 33, correspondientes a cada uno de los 32 estados y a nivel nacional.\n",
        "\n",
        "https://drive.google.com/file/d/1lamkxgq2AsXRu81Y4JTNXLVld4og7nxt/view?usp=sharing\n",
        "\n",
        "\n",
        "## Planteamiento del problema\n",
        "Diseñar un algoritmo y programarlo para que:\n",
        "1. Solicite por teclado el año, el estado y el mes, en base a esa información:\n",
        "- muestre en pantalla el promedio de ese mes en ese estado en el año seleccionado.\n",
        "- muestre en pantalla el promedio anual del  estado seleccionado.\n",
        "- muestre la suma de los 12 meses de ese estado en el año seleccionado\n",
        "2. Busque el mes que mas llovió en todos los estados durante esos dos años. Imprimir año, estado y mes.\n",
        "3. Busque el mes que menos llovió en los dos. Imprimir año, estado y mes."
      ]
    },
    {
      "cell_type": "code",
      "metadata": {
        "id": "y5nP1L4Xh71I",
        "outputId": "5b5fe1b0-8d3c-472c-9535-3a8f89ecdeb5",
        "colab": {
          "base_uri": "https://localhost:8080/",
          "height": 105
        }
      },
      "source": [
        "import pandas\n",
        "Datos = []\n",
        "def sum(listaNumeros):\n",
        "    laSuma = 0\n",
        "    for i in listaNumeros:\n",
        "        laSuma = laSuma + i\n",
        "    return laSuma\n",
        "\n",
        "año = input('Año: ')\n",
        "mes = input('Mes: ')\n",
        "estado = input('Estado: ')\n",
        "\n",
        "if año is 2017:\n",
        "  archivo = pandas.read_excel('2017Precip.xlsx', sheet_name='Worksheet')\n",
        "if año is 2018:\n",
        "  archivo = pandas.read_excel('2018Precip.xlsx', sheet_name='Worksheet')\n",
        "\n",
        "print(archivo[mes].tolist())\n",
        "\n",
        "\n",
        "\n",
        "\n",
        "\n",
        "\n"
      ],
      "execution_count": 61,
      "outputs": [
        {
          "output_type": "stream",
          "text": [
            "Año: 2017\n",
            "Mes: FEB\n",
            "Estado: PUEBLA\n",
            "[2.1, 44.9, 18.4, 6.9, 11.1, 2.8, 8.1, 8.1, 0.0, 7.8, 1.5, 0.2, 5.0, 2.9, 1.1, 1.0, 0.1, 11.0, 7.4, 5.7, 8.0, 2.0, 9.5, 3.6, 30.2, 31.3, 32.4, 14.9, 0.4, 32.6, 2.1, 1.3, 12.7]\n"
          ],
          "name": "stdout"
        }
      ]
    }
  ]
}