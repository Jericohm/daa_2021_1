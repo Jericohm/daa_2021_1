{
  "nbformat": 4,
  "nbformat_minor": 0,
  "metadata": {
    "colab": {
      "name": "25Noviembre.ipynb",
      "provenance": [],
      "authorship_tag": "ABX9TyMM3kpYw98zjqxr6G5JuOkO",
      "include_colab_link": true
    },
    "kernelspec": {
      "name": "python3",
      "display_name": "Python 3"
    }
  },
  "cells": [
    {
      "cell_type": "markdown",
      "metadata": {
        "id": "view-in-github",
        "colab_type": "text"
      },
      "source": [
        "<a href=\"https://colab.research.google.com/github/Jericohm/daa_2021_1/blob/master/25Noviembre.ipynb\" target=\"_parent\"><img src=\"https://colab.research.google.com/assets/colab-badge.svg\" alt=\"Open In Colab\"/></a>"
      ]
    },
    {
      "cell_type": "code",
      "metadata": {
        "colab": {
          "base_uri": "https://localhost:8080/"
        },
        "id": "0g80oxOg57E5",
        "outputId": "7198c532-3c3a-496a-8c6a-1987c709ffed"
      },
      "source": [
        "frase = \"\"\"El lema que anima a la Universidad Nacional, Por mi raza hablará el espíritu, revela la vocación humanística con la que fue concebida. El autor de esta célebre frase, José Vasconcelos, asumió la rectoría en 1920, en una época en que las esperanzas de la Revolución aún estaban vivas, había una gran fe en la Patria y el ánimo redentor se extendía en el ambiente.\"\"\"\n",
        "frase = frase.strip().replace(\"\\n\", \"\").replace(\",\",\"\").replace(\".\",\"\").lower().split(\" \")\n",
        "print(frase)\n",
        "frecuencias = {}\n",
        "for index in range(len(frase)):\n",
        "  if frase[index] in frecuencias:\n",
        "    pass\n",
        "  else:\n",
        "    frecuencias[frase[index]] = 1\n",
        "    for pivote in range(index + 1, len(frase), 1):\n",
        "      if frase[index] == frase[pivote]:\n",
        "        frecuencias[frase[index]] += 1\n",
        "      #print(frase[index], \"Comparada Contra:\", frase[pivote])\n",
        "print(frecuencias)\n"
      ],
      "execution_count": 12,
      "outputs": [
        {
          "output_type": "stream",
          "text": [
            "['el', 'lema', 'que', 'anima', 'a', 'la', 'universidad', 'nacional', 'por', 'mi', 'raza', 'hablará', 'el', 'espíritu', 'revela', 'la', 'vocación', 'humanística', 'con', 'la', 'que', 'fue', 'concebida', 'el', 'autor', 'de', 'esta', 'célebre', 'frase', 'josé', 'vasconcelos', 'asumió', 'la', 'rectoría', 'en', '1920', 'en', 'una', 'época', 'en', 'que', 'las', 'esperanzas', 'de', 'la', 'revolución', 'aún', 'estaban', 'vivas', 'había', 'una', 'gran', 'fe', 'en', 'la', 'patria', 'y', 'el', 'ánimo', 'redentor', 'se', 'extendía', 'en', 'el', 'ambiente']\n",
            "{'el': 5, 'lema': 1, 'que': 3, 'anima': 1, 'a': 1, 'la': 6, 'universidad': 1, 'nacional': 1, 'por': 1, 'mi': 1, 'raza': 1, 'hablará': 1, 'espíritu': 1, 'revela': 1, 'vocación': 1, 'humanística': 1, 'con': 1, 'fue': 1, 'concebida': 1, 'autor': 1, 'de': 2, 'esta': 1, 'célebre': 1, 'frase': 1, 'josé': 1, 'vasconcelos': 1, 'asumió': 1, 'rectoría': 1, 'en': 5, '1920': 1, 'una': 2, 'época': 1, 'las': 1, 'esperanzas': 1, 'revolución': 1, 'aún': 1, 'estaban': 1, 'vivas': 1, 'había': 1, 'gran': 1, 'fe': 1, 'patria': 1, 'y': 1, 'ánimo': 1, 'redentor': 1, 'se': 1, 'extendía': 1, 'ambiente': 1}\n"
          ],
          "name": "stdout"
        }
      ]
    },
    {
      "cell_type": "code",
      "metadata": {
        "colab": {
          "base_uri": "https://localhost:8080/"
        },
        "id": "R605PyPS_NM_",
        "outputId": "ea2290c4-5472-4b7f-8798-e74a60ea381d"
      },
      "source": [
        "frase = \"\"\"El lema que anima a la Universidad Nacional, Por mi raza hablará el espíritu, revela la vocación humanística con la que fue concebida. El autor de esta célebre frase, José Vasconcelos, asumió la rectoría en 1920, en una época en que las esperanzas de la Revolución aún estaban vivas, había una gran fe en la Patria y el ánimo redentor se extendía en el ambiente.\"\"\"\n",
        "frase = frase.strip().replace(\"\\n\", \"\").replace(\",\",\"\").replace(\".\",\"\").lower().split(\" \")\n",
        "frecuencias = {}\n",
        "for index in range(len(frase)):\n",
        "  print(hash(frase[index]))\n",
        "  if frase[index] in frecuencias:\n",
        "    frecuencias[frase[index]] += 1\n",
        "  else:\n",
        "    frecuencias[frase[index]] = 1\n",
        "print(frecuencias)\n"
      ],
      "execution_count": 18,
      "outputs": [
        {
          "output_type": "stream",
          "text": [
            "239085222784325100\n",
            "-4964607861354771966\n",
            "1596073413674365275\n",
            "5459870055444866548\n",
            "-1986359325590362598\n",
            "1802698878975200823\n",
            "-6849862637839378541\n",
            "897900850864434493\n",
            "-5609546622827675185\n",
            "-584387443539017013\n",
            "-7000788385082836483\n",
            "-5265907458557748864\n",
            "239085222784325100\n",
            "-8129413322336638491\n",
            "-8347399579162292311\n",
            "1802698878975200823\n",
            "-444578690341410942\n",
            "4295817095487305980\n",
            "499058654899872464\n",
            "1802698878975200823\n",
            "1596073413674365275\n",
            "5224887185635703205\n",
            "-2778429536953016022\n",
            "239085222784325100\n",
            "8816745216733517213\n",
            "-204221454135116668\n",
            "3584817745255971927\n",
            "-9175897262374850067\n",
            "6065368332606691168\n",
            "-2811875378009631178\n",
            "4528621276166003668\n",
            "2889770988913843935\n",
            "1802698878975200823\n",
            "-2439777184463416015\n",
            "-7053866928385665275\n",
            "-745009649162422876\n",
            "-7053866928385665275\n",
            "6850089816342497040\n",
            "7994557079149637936\n",
            "-7053866928385665275\n",
            "1596073413674365275\n",
            "7786087836813495807\n",
            "-3588745652323822797\n",
            "-204221454135116668\n",
            "1802698878975200823\n",
            "-3046083165962856362\n",
            "3200904443639406253\n",
            "-2174843230940281358\n",
            "-4267762371431054322\n",
            "1337122242955120701\n",
            "6850089816342497040\n",
            "-5195281372725777269\n",
            "-1461754941295624646\n",
            "-7053866928385665275\n",
            "1802698878975200823\n",
            "-3713888330711809317\n",
            "2806003865066333730\n",
            "239085222784325100\n",
            "-260777220278388482\n",
            "7156596663996304944\n",
            "2750011996795975105\n",
            "-360007817855567235\n",
            "-7053866928385665275\n",
            "239085222784325100\n",
            "7817721209781750080\n",
            "{'el': 5, 'lema': 1, 'que': 3, 'anima': 1, 'a': 1, 'la': 6, 'universidad': 1, 'nacional': 1, 'por': 1, 'mi': 1, 'raza': 1, 'hablará': 1, 'espíritu': 1, 'revela': 1, 'vocación': 1, 'humanística': 1, 'con': 1, 'fue': 1, 'concebida': 1, 'autor': 1, 'de': 2, 'esta': 1, 'célebre': 1, 'frase': 1, 'josé': 1, 'vasconcelos': 1, 'asumió': 1, 'rectoría': 1, 'en': 5, '1920': 1, 'una': 2, 'época': 1, 'las': 1, 'esperanzas': 1, 'revolución': 1, 'aún': 1, 'estaban': 1, 'vivas': 1, 'había': 1, 'gran': 1, 'fe': 1, 'patria': 1, 'y': 1, 'ánimo': 1, 'redentor': 1, 'se': 1, 'extendía': 1, 'ambiente': 1}\n"
          ],
          "name": "stdout"
        }
      ]
    }
  ]
}