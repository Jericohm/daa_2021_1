{
  "nbformat": 4,
  "nbformat_minor": 0,
  "metadata": {
    "colab": {
      "name": "5Octubre.ipynb",
      "provenance": [],
      "authorship_tag": "ABX9TyOwmAp2jFPPvTve9ITZb3QQ",
      "include_colab_link": true
    },
    "kernelspec": {
      "name": "python3",
      "display_name": "Python 3"
    }
  },
  "cells": [
    {
      "cell_type": "markdown",
      "metadata": {
        "id": "view-in-github",
        "colab_type": "text"
      },
      "source": [
        "<a href=\"https://colab.research.google.com/github/Jericohm/daa_2021_1/blob/master/5Octubre.ipynb\" target=\"_parent\"><img src=\"https://colab.research.google.com/assets/colab-badge.svg\" alt=\"Open In Colab\"/></a>"
      ]
    },
    {
      "cell_type": "markdown",
      "metadata": {
        "id": "Loz5Zgpk_jrh"
      },
      "source": [
        "# Estructura de Datos Pila (Stack)\n",
        "- Last in First Out\n",
        "- De tipo lineal\n",
        "- Se pueden obtener e ingresar datos desde el tope\n",
        "- Push para agregar\n",
        "- Pop para sacar\n",
        "\n",
        "## Operaciones de las Pilas\n",
        "\n",
        "1. is_empty (Regresa true o false)\n",
        "2. get_top (Regresa el elemento del tope SIN SACARLO)\n",
        "3. pop (Saca el elemento del tope y lo regresa)\n",
        "4. push (Mete un elemento en el tope)\n",
        "5. get_length (Regresa el número de elementos en la pila)"
      ]
    },
    {
      "cell_type": "code",
      "metadata": {
        "id": "9BArAwDe_V0K"
      },
      "source": [
        "class Stack:\n",
        "  def _init_ (self):\n",
        "    self.__datos=[]\n",
        "\n",
        "  def is_empty(self):\n",
        "    return len(self.__datos)==0\n",
        "\n",
        "  def get_top(self):\n",
        "    return self.__datos[-1]\n",
        "\n",
        "  def pop(self):\n",
        "    return self.__datos.pop()\n",
        "\n",
        "  def push (self, valor):\n",
        "    self.__datos.append(valor)\n",
        "\n",
        "  def get_length (self):\n",
        "    return len(self.__datos)\n",
        "\n",
        "  def to_string (self):\n",
        "    print(\"|---------------|\")\n",
        "    for ele in self.__datos[-1::-1]:\n",
        "      print(f\" { ele } \")\n",
        "    print(\"|---------------|\")\n"
      ],
      "execution_count": 27,
      "outputs": []
    },
    {
      "cell_type": "code",
      "metadata": {
        "id": "MLiwMlxaFPWM"
      },
      "source": [
        "pila1 = Stack()\n",
        "\n",
        "pila1.push(10)\n",
        "pila1.push(15)\n",
        "pila1.push(32)\n",
        "pila1.push(54)\n",
        "pila1.push(87)\n",
        "\n",
        "pila1.to_string()\n",
        "\n",
        "sacado = pila1.pop()\n",
        "print (sacado)\n",
        "pila1.to_string()\n",
        "\n",
        "print(f\"Elemento en el tope es:{ pila1.get_top()}\")\n",
        "pila1.to_string()\n",
        "print(f\"La pila tiene :{ pila1.get_length() } elementos\")\n",
        "\n",
        "print(f\"La pila esta vacía? {pila1.is_empty()}\")"
      ],
      "execution_count": null,
      "outputs": []
    },
    {
      "cell_type": "markdown",
      "metadata": {
        "id": "9aSa1bcCJOKk"
      },
      "source": [
        "# ejemplo de aplicación de pilas\n",
        "\n",
        "x = 4 + 5 + 6 + 3\n",
        "\n",
        "x = 4 + (5 + 6) + 3\n",
        "\n",
        "x = (4 + (5 + 6) + 3)\n",
        "\n",
        "if (a==b){ System.out.println(b)\n",
        "\n",
        "if (a==b){ System.out.println(b}\n",
        "\n",
        "# Reglas\n",
        "### '(' ---> push('@')\n",
        "### ')' ---> pop()\n",
        "Si al final del recorrido la pila está vacía, entonces la cadena es correcta.\n",
        "\n",
        "Si en un pop desencadena en querer sacar un elemento de la pila vacía, significa que la cadena no está balanceada.\n"
      ]
    },
    {
      "cell_type": "markdown",
      "metadata": {
        "id": "5aUoXiZhNNF2"
      },
      "source": [
        "# Tarea\n",
        "Hacer un programa que valida el balanceo de '( )', '[ ]' y '{ }' en programas del lenguaje C y Java"
      ]
    }
  ]
}