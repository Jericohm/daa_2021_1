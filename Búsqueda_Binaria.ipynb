{
  "nbformat": 4,
  "nbformat_minor": 0,
  "metadata": {
    "colab": {
      "name": "Búsqueda_Binaria.ipynb",
      "provenance": [],
      "authorship_tag": "ABX9TyPocRl3O+UTxf9+S9wisEDF",
      "include_colab_link": true
    },
    "kernelspec": {
      "name": "python3",
      "display_name": "Python 3"
    }
  },
  "cells": [
    {
      "cell_type": "markdown",
      "metadata": {
        "id": "view-in-github",
        "colab_type": "text"
      },
      "source": [
        "<a href=\"https://colab.research.google.com/github/Jericohm/daa_2021_1/blob/master/B%C3%BAsqueda_Binaria.ipynb\" target=\"_parent\"><img src=\"https://colab.research.google.com/assets/colab-badge.svg\" alt=\"Open In Colab\"/></a>"
      ]
    },
    {
      "cell_type": "code",
      "metadata": {
        "colab": {
          "base_uri": "https://localhost:8080/"
        },
        "id": "aKm_ielH1owc",
        "outputId": "f98777e6-b3e3-4520-f44a-6cbfdc38b354"
      },
      "source": [
        "alumno1={'id':2, 'nombre':\"Juan\" , 'carrera':\"ICO\", 'promedio':7.67}\n",
        "alumno2={'id':4, 'nombre':\"Rocio\" , 'carrera':\"ICI\", 'promedio':8.67}\n",
        "alumno3={'id':5, 'nombre':\"Diego\" , 'carrera':\"DER\", 'promedio':8.98}\n",
        "alumno4={'id':7, 'nombre':\"May\" , 'carrera':\"ICI\", 'promedio':9.87}\n",
        "alumno5={'id':9, 'nombre':\"Rob\" , 'carrera':\"IME\", 'promedio':10.00}\n",
        "alumno6={'id':10, 'nombre':\"Santi\" , 'carrera':\"ICO\", 'promedio':5.37}\n",
        "alumno7={'id':14, 'nombre':\"Moy\" , 'carrera':\"IME\", 'promedio':6.85}\n",
        "alumno8={'id':16, 'nombre':\"Diana\" , 'carrera':\"DER\", 'promedio':9.99}\n",
        "alumno9={'id':19, 'nombre':\"Zoila\" , 'carrera':\"ICO\", 'promedio':8.22}\n",
        "alumno10={'id':22, 'nombre':\"Armando\" , 'carrera':\"ICO\", 'promedio':7.32}\n",
        "\n",
        "lista = []\n",
        "lista.append(alumno1)\n",
        "lista.append(alumno2)\n",
        "lista.append(alumno3)\n",
        "lista.append(alumno4)\n",
        "lista.append(alumno5)\n",
        "lista.append(alumno6)\n",
        "lista.append(alumno7)\n",
        "lista.append(alumno8)\n",
        "lista.append(alumno9)\n",
        "lista.append(alumno10)\n",
        "\n",
        "\n",
        "\n",
        "def BinSear(lista, busq, bandera):\n",
        "\n",
        "  x = len(lista)//2\n",
        "  if len(lista) == 0:  \n",
        "    if bandera == 0:\n",
        "      print(\"El Alumno con ID:\",busq ,\"No Existe\")      \n",
        "    return x\n",
        "  if lista[x].get('id') == busq:\n",
        "    print(\"Nombre:\", lista[x].get('nombre'), \"Carrera:\", lista[x].get('carrera'), \"Promedio:\", lista[x].get('promedio'))    \n",
        "    bandera = 1\n",
        "  elif lista[x].get('id') > busq:\n",
        "    BinSear(lista[:x], busq, bandera) \n",
        "  elif lista[x].get('id') < busq:\n",
        "    BinSear(lista[x+1:], busq, bandera)\n",
        "\n",
        "bandera = 0\n",
        "BinSear(lista, 22, bandera)\n"
      ],
      "execution_count": 60,
      "outputs": [
        {
          "output_type": "stream",
          "text": [
            "Nombre: Armando Carrera: ICO Promedio: 7.32\n"
          ],
          "name": "stdout"
        }
      ]
    }
  ]
}