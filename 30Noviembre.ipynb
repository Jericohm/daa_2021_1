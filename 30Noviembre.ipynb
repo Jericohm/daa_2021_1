{
  "nbformat": 4,
  "nbformat_minor": 0,
  "metadata": {
    "colab": {
      "name": "30Noviembre.ipynb",
      "provenance": [],
      "authorship_tag": "ABX9TyMq9xWC+hn0cdeRjpMAxwR7",
      "include_colab_link": true
    },
    "kernelspec": {
      "name": "python3",
      "display_name": "Python 3"
    }
  },
  "cells": [
    {
      "cell_type": "markdown",
      "metadata": {
        "id": "view-in-github",
        "colab_type": "text"
      },
      "source": [
        "<a href=\"https://colab.research.google.com/github/Jericohm/daa_2021_1/blob/master/30Noviembre.ipynb\" target=\"_parent\"><img src=\"https://colab.research.google.com/assets/colab-badge.svg\" alt=\"Open In Colab\"/></a>"
      ]
    },
    {
      "cell_type": "code",
      "metadata": {
        "colab": {
          "base_uri": "https://localhost:8080/"
        },
        "id": "eb5VwmxXnw-S",
        "outputId": "b55c93fb-714c-41ab-f59a-6adf98b1b766"
      },
      "source": [
        "  A = \"AELASESLALSALSALSALSALSALASLSLSLSLSALALALALASALSALLSALAS\"\n",
        "  P = \"LAS\"\n",
        "  N = len(A)\n",
        "  M = len(P)\n",
        "\n",
        "  def fuerza_bruta(A, P):\n",
        "    for i in range( N-M+1 ):\n",
        "      for j in range( M ):\n",
        "        if A[i+j] != P[j]:\n",
        "          break\n",
        "        else:\n",
        "          pass\n",
        "      if j+1 == M and A[i+j] == P[j]:\n",
        "        print(\"Encontrado en la posición: \", i)\n",
        "\n",
        "fuerza_bruta(A, P)             "
      ],
      "execution_count": 15,
      "outputs": [
        {
          "output_type": "stream",
          "text": [
            "Encontrado en la posición:  2\n",
            "Encontrado en la posición:  24\n",
            "Encontrado en la posición:  42\n",
            "Encontrado en la posición:  53\n"
          ],
          "name": "stdout"
        }
      ]
    }
  ]
}