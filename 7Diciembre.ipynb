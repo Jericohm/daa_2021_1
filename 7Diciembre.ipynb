{
  "nbformat": 4,
  "nbformat_minor": 0,
  "metadata": {
    "colab": {
      "name": "7Diciembre.ipynb",
      "provenance": [],
      "authorship_tag": "ABX9TyM843XilSMJxTtfqPE0SCj3",
      "include_colab_link": true
    },
    "kernelspec": {
      "name": "python3",
      "display_name": "Python 3"
    }
  },
  "cells": [
    {
      "cell_type": "markdown",
      "metadata": {
        "id": "view-in-github",
        "colab_type": "text"
      },
      "source": [
        "<a href=\"https://colab.research.google.com/github/Jericohm/daa_2021_1/blob/master/7Diciembre.ipynb\" target=\"_parent\"><img src=\"https://colab.research.google.com/assets/colab-badge.svg\" alt=\"Open In Colab\"/></a>"
      ]
    },
    {
      "cell_type": "code",
      "metadata": {
        "id": "se05n2s87wSf"
      },
      "source": [
        "def merge_sort(arreglo, izquierda, derecha):\n",
        "  if izquierda >= derecha:\n",
        "    return\n",
        "  \n",
        "  mitad = (izquierda + derecha)//2\n",
        "  merge_sort(arreglo, izquierda, mitad)\n",
        "  merge_sort(arreglo, mitad + 1, derecha)\n",
        "  print(\"Llamar Merge\")\n",
        "  merge(arreglo, izquierda, derecha, mitad)"
      ],
      "execution_count": 1,
      "outputs": []
    }
  ]
}