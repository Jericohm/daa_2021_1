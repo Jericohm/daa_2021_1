{
  "nbformat": 4,
  "nbformat_minor": 0,
  "metadata": {
    "colab": {
      "name": "Nivel_de_Hoja_BT.ipynb",
      "provenance": [],
      "authorship_tag": "ABX9TyMl1Sxf/1n5FbWX7wSG4GJp",
      "include_colab_link": true
    },
    "kernelspec": {
      "name": "python3",
      "display_name": "Python 3"
    }
  },
  "cells": [
    {
      "cell_type": "markdown",
      "metadata": {
        "id": "view-in-github",
        "colab_type": "text"
      },
      "source": [
        "<a href=\"https://colab.research.google.com/github/Jericohm/daa_2021_1/blob/master/Nivel_de_Hoja_BT.ipynb\" target=\"_parent\"><img src=\"https://colab.research.google.com/assets/colab-badge.svg\" alt=\"Open In Colab\"/></a>"
      ]
    },
    {
      "cell_type": "code",
      "metadata": {
        "id": "Y33udEX2fmPv"
      },
      "source": [
        "class NodoArbol:\r\n",
        "  def __init__(self, value, left = None, right = None):\r\n",
        "    self.data = value\r\n",
        "    self.left = left\r\n",
        "    self.right = right"
      ],
      "execution_count": 2,
      "outputs": []
    },
    {
      "cell_type": "code",
      "metadata": {
        "id": "-VtTAA0FfgoB"
      },
      "source": [
        "  conta = 0\r\n",
        "  mayor = [0,0]\r\n",
        "  def test(nodo):  \r\n",
        "    global conta   \r\n",
        "    global mayor\r\n",
        "    if nodo is None:\r\n",
        "      return None\r\n",
        "    if nodo.left is None and nodo.right is None:\r\n",
        "      if conta > mayor[1]:\r\n",
        "        mayor = [nodo.data, conta]           \r\n",
        "      return None\r\n",
        "    else:  \r\n",
        "      conta += 1       \r\n",
        "      test(nodo.left)           \r\n",
        "      test(nodo.right)\r\n",
        "      conta -= 1      \r\n",
        "      return mayor"
      ],
      "execution_count": 26,
      "outputs": []
    },
    {
      "cell_type": "code",
      "metadata": {
        "id": "AMBJ7HNvfvln"
      },
      "source": [
        "arbol_1 = NodoArbol(4, NodoArbol(3, NodoArbol(2, NodoArbol(2, NodoArbol(2, NodoArbol(15))), NodoArbol(7))), NodoArbol(5, NodoArbol(3, NodoArbol(9, NodoArbol(10))), NodoArbol(7, NodoArbol(8))))"
      ],
      "execution_count": 8,
      "outputs": []
    },
    {
      "cell_type": "code",
      "metadata": {
        "id": "PQEGAM5Mf4j3"
      },
      "source": [
        "arbol_2 = NodoArbol(\"Santi\",None ,NodoArbol(\"Jesús\", NodoArbol(\"Pedro\", None, NodoArbol(\"Diana\"))))"
      ],
      "execution_count": 15,
      "outputs": []
    },
    {
      "cell_type": "code",
      "metadata": {
        "colab": {
          "base_uri": "https://localhost:8080/"
        },
        "id": "9zJe0axRfic_",
        "outputId": "b46b09d7-7a81-43bb-c873-918763febe5b"
      },
      "source": [
        "resultado = test(arbol_1)\r\n",
        "print(\"Hoja con Mayor Nivel\")\r\n",
        "print(\"Dato:\", resultado[0], \" Nivel:\", resultado[1], \"\\n\")"
      ],
      "execution_count": 27,
      "outputs": [
        {
          "output_type": "stream",
          "text": [
            "Hoja con Mayor Nivel\n",
            "Dato: 15  Nivel: 5 \n",
            "\n"
          ],
          "name": "stdout"
        }
      ]
    },
    {
      "cell_type": "code",
      "metadata": {
        "colab": {
          "base_uri": "https://localhost:8080/"
        },
        "id": "iPux3vEtg83F",
        "outputId": "3c3455c7-0f7a-4b11-fc26-8c2dd3befe2f"
      },
      "source": [
        "resultado = test(arbol_2)\r\n",
        "print(\"Hoja con Mayor Nivel\")\r\n",
        "print(\"Dato:\", resultado[0], \" Nivel:\", resultado[1])"
      ],
      "execution_count": 25,
      "outputs": [
        {
          "output_type": "stream",
          "text": [
            "Hoja con Mayor Nivel\n",
            "Dato: Diana  Nivel: 3\n"
          ],
          "name": "stdout"
        }
      ]
    }
  ]
}