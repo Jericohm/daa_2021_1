{
  "nbformat": 4,
  "nbformat_minor": 0,
  "metadata": {
    "colab": {
      "name": "2Diciembre.ipynb",
      "provenance": [],
      "authorship_tag": "ABX9TyPV04RjBulG+5fK5qHL+3lD",
      "include_colab_link": true
    },
    "kernelspec": {
      "name": "python3",
      "display_name": "Python 3"
    }
  },
  "cells": [
    {
      "cell_type": "markdown",
      "metadata": {
        "id": "view-in-github",
        "colab_type": "text"
      },
      "source": [
        "<a href=\"https://colab.research.google.com/github/Jericohm/daa_2021_1/blob/master/2Diciembre.ipynb\" target=\"_parent\"><img src=\"https://colab.research.google.com/assets/colab-badge.svg\" alt=\"Open In Colab\"/></a>"
      ]
    },
    {
      "cell_type": "code",
      "metadata": {
        "id": "LzZQw59i_WI-"
      },
      "source": [
        "def fnRecInf():\n",
        "  print(\"Hola\")\n",
        "  fnRecInf()"
      ],
      "execution_count": 3,
      "outputs": []
    },
    {
      "cell_type": "code",
      "metadata": {
        "colab": {
          "base_uri": "https://localhost:8080/"
        },
        "id": "AmpW1nNJAx9x",
        "outputId": "0dc8524c-b077-436b-a473-eff87afecdd5"
      },
      "source": [
        "def fnRec(x):\n",
        "  if x == 0:\n",
        "    print(\"Stop\")\n",
        "  else:\n",
        "    fnRec(x-1)\n",
        "    print(x)\n",
        "\n",
        "def main():\n",
        "  print(\"Inicio del Programa\")\n",
        "  fnRec(5)\n",
        "  print(\"Fin del programa\")\n",
        "main()"
      ],
      "execution_count": 4,
      "outputs": [
        {
          "output_type": "stream",
          "text": [
            "Inicio del Programa\n",
            "Stop\n",
            "1\n",
            "2\n",
            "3\n",
            "4\n",
            "5\n",
            "Fin del programa\n"
          ],
          "name": "stdout"
        }
      ]
    },
    {
      "cell_type": "code",
      "metadata": {
        "colab": {
          "base_uri": "https://localhost:8080/"
        },
        "id": "ol6LU0f2BgkR",
        "outputId": "904d61a5-4f13-4be3-9f96-400d766a5bee"
      },
      "source": [
        "def printRev( x ):\n",
        "  if x > 0:\n",
        "    print( x )\n",
        "    printRev( x-1 )\n",
        "\n",
        "printRev(3)"
      ],
      "execution_count": 6,
      "outputs": [
        {
          "output_type": "stream",
          "text": [
            "3\n",
            "2\n",
            "1\n"
          ],
          "name": "stdout"
        }
      ]
    },
    {
      "cell_type": "code",
      "metadata": {
        "colab": {
          "base_uri": "https://localhost:8080/"
        },
        "id": "G5v1dJivF-az",
        "outputId": "abd845b6-fa61-49b9-f266-c0584bd88361"
      },
      "source": [
        "def fibonacci( n ):\n",
        "  if n == 1 or n == 0:\n",
        "    return n\n",
        "  else:\n",
        "    return(fibonacci(n-1) + fibonacci(n-2))\n",
        "\n",
        "fibonacci(8)"
      ],
      "execution_count": 8,
      "outputs": [
        {
          "output_type": "execute_result",
          "data": {
            "text/plain": [
              "21"
            ]
          },
          "metadata": {
            "tags": []
          },
          "execution_count": 8
        }
      ]
    }
  ]
}