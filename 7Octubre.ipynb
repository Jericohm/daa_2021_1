{
  "nbformat": 4,
  "nbformat_minor": 0,
  "metadata": {
    "colab": {
      "name": "7Octubre.ipynb",
      "provenance": [],
      "authorship_tag": "ABX9TyPgx2Dg2K2bMJHCgKly2FPY",
      "include_colab_link": true
    },
    "kernelspec": {
      "name": "python3",
      "display_name": "Python 3"
    }
  },
  "cells": [
    {
      "cell_type": "markdown",
      "metadata": {
        "id": "view-in-github",
        "colab_type": "text"
      },
      "source": [
        "<a href=\"https://colab.research.google.com/github/Jericohm/daa_2021_1/blob/master/7Octubre.ipynb\" target=\"_parent\"><img src=\"https://colab.research.google.com/assets/colab-badge.svg\" alt=\"Open In Colab\"/></a>"
      ]
    },
    {
      "cell_type": "markdown",
      "metadata": {
        "id": "Hm7TM91VSp4u"
      },
      "source": [
        "# Búsqueda lineal\n",
        "\n",
        "Dado un conjunto de datos ordenados, la busqueda lineal consiste en recorrer el conjunto de datos desde el inicio al final, moviendose de uno en uno hasta encontrar el elemento o llegar al final del conjunto.\n",
        "\n",
        "datos = [ 4,18,47,2,34,14,78,12,48,21,31,19,1,3,5]\n",
        "\n",
        "#Búsqueda Binaria\n",
        "Funciona sobre un conjunto de datos lineal ordenado.\n",
        "Consiste en dividir el conjunto en mitades y buscar en esa mitad. Si el elemento no está en la mitad, preguntas si el elemento está a la derecha o a la izquierda.\n",
        "Haces la lista igual a la mitad correspondiente y repites el proceso.\n",
        "\n",
        "L = [1, 2, 3, 4, 5, 12, 14, 18, 19, 21, 31, 34, 47, 48, 78]\n",
        "\n",
        "DER = longitud( L ) -1\n",
        "\n",
        "IZQ = 0\n",
        "\n",
        "MID Apuntará a la mitad del segmento de busqueda\n",
        "\n",
        "buscado es el valor a buscar (47)\n",
        "\n",
        "1. hacer DER = longitud( L ) -1\n",
        "2. hacer IZQ = 0\n",
        "3. si IZQ > DER significa que hay un error en los datos\n",
        "4. calcular MID = int( (IZQ + DER)/2 )\n",
        "5. mientras L[MID] != buscado hacer\n",
        "6.  - preguntar si L[MID] > que buscado\n",
        "      - hacer DER = MID\n",
        "    - de lo contrario \n",
        "      - hacer IZQ = MID\n",
        "    - preguntar (DER - IZQ) %2\n",
        "      - MID = (IZQ + (DER - IZQ) /2) +1\n",
        "    - de lo contrario\n",
        "      - MID = IZQ +((DER - IZQ) /2)\n",
        "7. return MID\n"
      ]
    },
    {
      "cell_type": "code",
      "metadata": {
        "id": "IjijEEwvSdLq",
        "outputId": "4be51338-2968-48c5-e0e8-ae061ce79021",
        "colab": {
          "base_uri": "https://localhost:8080/",
          "height": 476
        }
      },
      "source": [
        "\"\"\"\n",
        "Busqueda Lineal\n",
        "Regresa la posición del elemento buscado si se encuentra dentro de la lista.\n",
        "Regresa -1 si el elemento buscado no existe dentro de la lista.\n",
        "\"\"\"\n",
        "def busq_lineal(L, buscado):\n",
        "  indice = -1\n",
        "  contador = 0\n",
        "  for idx in range(len(L)):\n",
        "    contador += 1\n",
        "    if L[idx] == buscado:\n",
        "      indice = idx\n",
        "      break\n",
        "  print(f\"Numero de comparaciones realizadas: {contador}\")\n",
        "  return indice\n",
        "\n",
        "\"\"\"\n",
        "Busqueda Binaria\n",
        "\"\"\"\n",
        "def busq_binaria(L, buscado):\n",
        "  IZQ = 0\n",
        "  DER = len(L) -1\n",
        "  MID = int((IZQ + DER)/2)\n",
        "  if len(L) % 2 == 0:\n",
        "    MID = (DER // 2) +1\n",
        "  else:\n",
        "    MID = DER //2\n",
        "\n",
        "  while (L[MID] != buscado):    \n",
        "    if L[MID] > buscado:\n",
        "      DER = MID\n",
        "    else:\n",
        "      IZQ = MID\n",
        "    if (DER - IZQ) %2 == 0:\n",
        "      MID = (IZQ + (DER - IZQ)//2) +1\n",
        "    else:\n",
        "      MID = IZQ +((DER -IZQ)//2)\n",
        "  return MID\n",
        "\n",
        "\"\"\"\n",
        "Main\n",
        "\"\"\"\n",
        "def main():\n",
        "  datos = [ 4,18,47,2,34,14,78,12,48,21,31,19,1,3,5]\n",
        "  dato = int(input(\"Qué valor quieres buscar: \"))\n",
        "  resultado = busq_lineal(datos, dato)\n",
        "  print(\"Resultado:\", resultado)\n",
        "  print(\"Busqueda lineal en una lista ordenada\")\n",
        "  datos.sort()\n",
        "  print(datos)\n",
        "  resultado = busq_lineal(datos, dato)\n",
        "  print(\"Resultado:\", resultado)\n",
        "\n",
        "  print(\"Busqueda Binaria\")\n",
        "  posicion = busq_binaria(datos, dato)\n",
        "  print(f\"El elemento está en la posición: {posicion}\")\n",
        "\n",
        "main()\n"
      ],
      "execution_count": 18,
      "outputs": [
        {
          "output_type": "stream",
          "text": [
            "Qué valor quieres buscar: 47\n",
            "Numero de comparaciones realizadas: 3\n",
            "Resultado: 2\n",
            "Busqueda lineal en una lista ordenada\n",
            "[1, 2, 3, 4, 5, 12, 14, 18, 19, 21, 31, 34, 47, 48, 78]\n",
            "Numero de comparaciones realizadas: 13\n",
            "Resultado: 12\n",
            "Busqueda Binaria\n"
          ],
          "name": "stdout"
        },
        {
          "output_type": "error",
          "ename": "KeyboardInterrupt",
          "evalue": "ignored",
          "traceback": [
            "\u001b[0;31m---------------------------------------------------------------------------\u001b[0m",
            "\u001b[0;31mKeyboardInterrupt\u001b[0m                         Traceback (most recent call last)",
            "\u001b[0;32m<ipython-input-18-763161e78185>\u001b[0m in \u001b[0;36m<module>\u001b[0;34m()\u001b[0m\n\u001b[1;32m     56\u001b[0m   \u001b[0mprint\u001b[0m\u001b[0;34m(\u001b[0m\u001b[0;34mf\"El elemento está en la posición: {posicion}\"\u001b[0m\u001b[0;34m)\u001b[0m\u001b[0;34m\u001b[0m\u001b[0;34m\u001b[0m\u001b[0m\n\u001b[1;32m     57\u001b[0m \u001b[0;34m\u001b[0m\u001b[0m\n\u001b[0;32m---> 58\u001b[0;31m \u001b[0mmain\u001b[0m\u001b[0;34m(\u001b[0m\u001b[0;34m)\u001b[0m\u001b[0;34m\u001b[0m\u001b[0;34m\u001b[0m\u001b[0m\n\u001b[0m",
            "\u001b[0;32m<ipython-input-18-763161e78185>\u001b[0m in \u001b[0;36mmain\u001b[0;34m()\u001b[0m\n\u001b[1;32m     53\u001b[0m \u001b[0;34m\u001b[0m\u001b[0m\n\u001b[1;32m     54\u001b[0m   \u001b[0mprint\u001b[0m\u001b[0;34m(\u001b[0m\u001b[0;34m\"Busqueda Binaria\"\u001b[0m\u001b[0;34m)\u001b[0m\u001b[0;34m\u001b[0m\u001b[0;34m\u001b[0m\u001b[0m\n\u001b[0;32m---> 55\u001b[0;31m   \u001b[0mposicion\u001b[0m \u001b[0;34m=\u001b[0m \u001b[0mbusq_binaria\u001b[0m\u001b[0;34m(\u001b[0m\u001b[0mdatos\u001b[0m\u001b[0;34m,\u001b[0m \u001b[0mdato\u001b[0m\u001b[0;34m)\u001b[0m\u001b[0;34m\u001b[0m\u001b[0;34m\u001b[0m\u001b[0m\n\u001b[0m\u001b[1;32m     56\u001b[0m   \u001b[0mprint\u001b[0m\u001b[0;34m(\u001b[0m\u001b[0;34mf\"El elemento está en la posición: {posicion}\"\u001b[0m\u001b[0;34m)\u001b[0m\u001b[0;34m\u001b[0m\u001b[0;34m\u001b[0m\u001b[0m\n\u001b[1;32m     57\u001b[0m \u001b[0;34m\u001b[0m\u001b[0m\n",
            "\u001b[0;32m<ipython-input-18-763161e78185>\u001b[0m in \u001b[0;36mbusq_binaria\u001b[0;34m(L, buscado)\u001b[0m\n\u001b[1;32m     32\u001b[0m     \u001b[0;32melse\u001b[0m\u001b[0;34m:\u001b[0m\u001b[0;34m\u001b[0m\u001b[0;34m\u001b[0m\u001b[0m\n\u001b[1;32m     33\u001b[0m       \u001b[0mIZQ\u001b[0m \u001b[0;34m=\u001b[0m \u001b[0mMID\u001b[0m\u001b[0;34m\u001b[0m\u001b[0;34m\u001b[0m\u001b[0m\n\u001b[0;32m---> 34\u001b[0;31m     \u001b[0;32mif\u001b[0m \u001b[0;34m(\u001b[0m\u001b[0mDER\u001b[0m \u001b[0;34m-\u001b[0m \u001b[0mIZQ\u001b[0m\u001b[0;34m)\u001b[0m \u001b[0;34m%\u001b[0m\u001b[0;36m2\u001b[0m \u001b[0;34m==\u001b[0m \u001b[0;36m0\u001b[0m\u001b[0;34m:\u001b[0m\u001b[0;34m\u001b[0m\u001b[0;34m\u001b[0m\u001b[0m\n\u001b[0m\u001b[1;32m     35\u001b[0m       \u001b[0mMID\u001b[0m \u001b[0;34m=\u001b[0m \u001b[0;34m(\u001b[0m\u001b[0mIZQ\u001b[0m \u001b[0;34m+\u001b[0m \u001b[0;34m(\u001b[0m\u001b[0mDER\u001b[0m \u001b[0;34m-\u001b[0m \u001b[0mIZQ\u001b[0m\u001b[0;34m)\u001b[0m\u001b[0;34m//\u001b[0m\u001b[0;36m2\u001b[0m\u001b[0;34m)\u001b[0m \u001b[0;34m+\u001b[0m\u001b[0;36m1\u001b[0m\u001b[0;34m\u001b[0m\u001b[0;34m\u001b[0m\u001b[0m\n\u001b[1;32m     36\u001b[0m     \u001b[0;32melse\u001b[0m\u001b[0;34m:\u001b[0m\u001b[0;34m\u001b[0m\u001b[0;34m\u001b[0m\u001b[0m\n",
            "\u001b[0;31mKeyboardInterrupt\u001b[0m: "
          ]
        }
      ]
    }
  ]
}