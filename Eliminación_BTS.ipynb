{
  "nbformat": 4,
  "nbformat_minor": 0,
  "metadata": {
    "colab": {
      "name": "Eliminación_BTS.ipynb",
      "provenance": [],
      "authorship_tag": "ABX9TyNfMrlrVM0sfvcZ0SbaZsCf",
      "include_colab_link": true
    },
    "kernelspec": {
      "name": "python3",
      "display_name": "Python 3"
    }
  },
  "cells": [
    {
      "cell_type": "markdown",
      "metadata": {
        "id": "view-in-github",
        "colab_type": "text"
      },
      "source": [
        "<a href=\"https://colab.research.google.com/github/Jericohm/daa_2021_1/blob/master/Eliminaci%C3%B3n_BTS.ipynb\" target=\"_parent\"><img src=\"https://colab.research.google.com/assets/colab-badge.svg\" alt=\"Open In Colab\"/></a>"
      ]
    },
    {
      "cell_type": "markdown",
      "metadata": {
        "id": "bA6NvymMOfvZ"
      },
      "source": [
        "# Árbol Binario de Búsqueda\r\n",
        "Los nodos a la izquierda son menores a la raíz y los nodos a la derecha son mayores a la raíz.\r\n",
        "Pueden ser recorridos en pre-orden y post-orden."
      ]
    },
    {
      "cell_type": "code",
      "metadata": {
        "id": "tE5ed8XsMIge"
      },
      "source": [
        "def organizar(self, nodo):\r\n",
        "  if nodo.data < self.data:\r\n",
        "    self.left = nodo\r\n",
        "  else:\r\n",
        "    self.right = nodo"
      ],
      "execution_count": 2,
      "outputs": []
    },
    {
      "cell_type": "code",
      "metadata": {
        "id": "Gft09wyrMERN"
      },
      "source": [
        "class NodoArbol:\r\n",
        "  def __init__(self, value, left = None, right = None):\r\n",
        "    self.data = value\r\n",
        "    self.left = left\r\n",
        "    self.right = right"
      ],
      "execution_count": 3,
      "outputs": []
    },
    {
      "cell_type": "code",
      "metadata": {
        "id": "bJTAQSP6SsEC"
      },
      "source": [
        "class BinarySearchTree:\r\n",
        "  def __init__(self):\r\n",
        "    self.__root = None\r\n",
        "  \r\n",
        "  def insert(self, value):\r\n",
        "    if self.__root == None:\r\n",
        "      self.__root = NodoArbol(value, None, None)\r\n",
        "    else:\r\n",
        "      #if value < self.__root.data: # checar\r\n",
        "        self.__insert_nodo__(self.__root, value)\r\n",
        "  \r\n",
        "  def __insert_nodo__(self, nodo, value):\r\n",
        "    if nodo.data == value:\r\n",
        "      pass\r\n",
        "    elif value < nodo.data: # True va a Izquierda\r\n",
        "      if nodo.left == None: # Si hay espacio lo asigna\r\n",
        "        nodo.left = NodoArbol(value, None, None) # Insertamos nodo\r\n",
        "      else:\r\n",
        "        self.__insert_nodo__(nodo.left, value) # Buscar posición en arbol izquierdo\r\n",
        "    else: # Ir a la derecha\r\n",
        "      if nodo.right == None:\r\n",
        "        nodo.right = NodoArbol(value)\r\n",
        "      else:\r\n",
        "        self.__insert_nodo__(nodo.right, value)\r\n",
        "  \r\n",
        "  def buscar(self, value):    \r\n",
        "    if self.__root == None:\r\n",
        "      return False\r\n",
        "    else:\r\n",
        "      return self.__busca_nodo(self.__root, value)\r\n",
        "  \r\n",
        "  def __busca_nodo(self, nodo, value):\r\n",
        "    if nodo == None:\r\n",
        "      return None\r\n",
        "    elif nodo.data == value:\r\n",
        "      return nodo   # A lo mejor regresar nodo.data por culpa de Alan\r\n",
        "    elif value < nodo.data:\r\n",
        "      return self.__busca_nodo(nodo.left, value)\r\n",
        "    else:\r\n",
        "      return self.__busca_nodo(nodo.right, value)\r\n",
        "\r\n",
        "  def transversal(self, format = \"inorden\"):\r\n",
        "    if format == \"inorden\":\r\n",
        "      self.__recorrido_in(self.__root)\r\n",
        "    elif format == \"preorden\":\r\n",
        "      self.__recorrido_pre(self.__root)\r\n",
        "    elif format == \"posorden\":\r\n",
        "      self.__recorrido_pos(self.__root)\r\n",
        "    else:\r\n",
        "      print(\"Formato de recorrido no válido\")\r\n",
        "  \r\n",
        "  def __recorrido_pre(self, nodo):\r\n",
        "    if nodo != None:\r\n",
        "      print(nodo.data, end = \",\")\r\n",
        "      self.__recorrido_pre(nodo.left)\r\n",
        "      self.__recorrido_pre(nodo.right)\r\n",
        "\r\n",
        "  def __recorrido_in(self, nodo):\r\n",
        "    if nodo != None:\r\n",
        "      self.__recorrido_in(nodo.left)\r\n",
        "      print(nodo.data, end = \",\")\r\n",
        "      self.__recorrido_in(nodo.right)\r\n",
        "\r\n",
        "  def __recorrido_pos(self, nodo):\r\n",
        "    if nodo != None:\r\n",
        "      self.__recorrido_pos(nodo.left)\r\n",
        "      self.__recorrido_pos(nodo.right)\r\n",
        "      print(nodo.data, end = \",\")\r\n",
        "\r\n",
        "  def __buscar_padre__(self, value):\r\n",
        "    nodo = self.__root\r\n",
        "    conta = 0\r\n",
        "    while nodo != None and nodo.data != value:\r\n",
        "      conta += 1\r\n",
        "      padre = nodo\r\n",
        "      if value < nodo.data:\r\n",
        "        nodo = nodo.left\r\n",
        "      else:\r\n",
        "        nodo = nodo.right\r\n",
        "    if conta == 0:\r\n",
        "      return None\r\n",
        "    else:      \r\n",
        "      return padre\r\n",
        "\r\n",
        "  def eliminar(self, value):\r\n",
        "    nodo = self.buscar(value)\r\n",
        "    if nodo.left == None and nodo.right == None:\r\n",
        "      self.__elim_0__(nodo)\r\n",
        "    elif (nodo.left != None and nodo.right == None) or (nodo.left == None and nodo.right != None):\r\n",
        "      self.__elim_1__(nodo)\r\n",
        "    else:\r\n",
        "      self.__elim_2__(nodo)\r\n",
        "    \r\n",
        "  def __elim_0__(self, nodo):    \r\n",
        "    padre = self.__buscar_padre__(nodo.data)\r\n",
        "    if padre == None:\r\n",
        "      self.__root = None\r\n",
        "    elif padre.left == nodo:\r\n",
        "      padre.left = None\r\n",
        "    else:\r\n",
        "      padre.right = None\r\n",
        "  \r\n",
        "  def __elim_1__(self, nodo):\r\n",
        "    padre = self.__buscar_padre__(nodo.data)\r\n",
        "    #Se busca el hijo del nodo a eliminar\r\n",
        "    if nodo.left != None:\r\n",
        "      hijo = nodo.left\r\n",
        "    else:\r\n",
        "      hijo = nodo.right      \r\n",
        "    # Se asigna el hijo al padre del nodo a eliminar\r\n",
        "    if padre == None:\r\n",
        "      self.__root = hijo\r\n",
        "    else:\r\n",
        "      if padre.left == nodo:\r\n",
        "        padre.left = hijo\r\n",
        "      else:\r\n",
        "        padre.right = hijo\r\n",
        "\r\n",
        "  def __elim_2__(self, nodo):\r\n",
        "    padre = self.__buscar_padre__(nodo.data)\r\n",
        "    hijo = self.__max__(nodo)\r\n",
        "    if padre == None:\r\n",
        "      aux = self.__buscar_padre__(hijo.data)\r\n",
        "      if aux.left == hijo:\r\n",
        "        aux.left = None\r\n",
        "      else:\r\n",
        "        aux.right = None\r\n",
        "      hijo.left = self.__root.left\r\n",
        "      hijo.right = self.__root.right\r\n",
        "      self.__root = hijo\r\n",
        "    else:\r\n",
        "      aux = self.__buscar_padre__(hijo.data)\r\n",
        "      if aux.left == hijo:\r\n",
        "        aux.left = None\r\n",
        "      else:\r\n",
        "        aux.right = None\r\n",
        "      hijo.left = nodo.left\r\n",
        "      hijo.right = nodo.right\r\n",
        "\r\n",
        "      if padre.left == nodo:\r\n",
        "        padre.left = hijo\r\n",
        "      else:\r\n",
        "        padre.right = hijo \r\n",
        "\r\n",
        "  def __max__(self, nodo):\r\n",
        "    actual = nodo.left\r\n",
        "    while actual.right != None:\r\n",
        "      actual = actual.right\r\n",
        "    return actual    \r\n"
      ],
      "execution_count": 90,
      "outputs": []
    },
    {
      "cell_type": "code",
      "metadata": {
        "id": "xbnitAfLbpB0",
        "colab": {
          "base_uri": "https://localhost:8080/"
        },
        "outputId": "3e620ed1-0b7b-45e0-abed-3de76aaec72f"
      },
      "source": [
        "bst = BinarySearchTree()\r\n",
        "bst.insert(50)\r\n",
        "bst.insert(60)\r\n",
        "bst.insert(55)\r\n",
        "bst.insert(30)\r\n",
        "bst.insert(20)\r\n",
        "bst.insert(40)\r\n",
        "bst.insert(45)\r\n",
        "bst.insert(25)\r\n",
        "bst.insert(10)\r\n",
        "print(\"Original:\")\r\n",
        "bst.transversal(format = \"preorden\")\r\n",
        "bst.eliminar(30)\r\n",
        "print(\"\\nEliminado:\")\r\n",
        "bst.transversal(format = \"preorden\")"
      ],
      "execution_count": 91,
      "outputs": [
        {
          "output_type": "stream",
          "text": [
            "Original:\n",
            "50,30,20,10,25,40,45,60,55,\n",
            "Eliminado:\n",
            "50,25,20,10,40,45,60,55,"
          ],
          "name": "stdout"
        }
      ]
    }
  ]
}