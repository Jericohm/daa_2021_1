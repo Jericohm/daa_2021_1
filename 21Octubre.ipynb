{
  "nbformat": 4,
  "nbformat_minor": 0,
  "metadata": {
    "colab": {
      "name": "21Octubre.ipynb",
      "provenance": [],
      "authorship_tag": "ABX9TyMKIcwKjCCxHlgfjiK1DtvD",
      "include_colab_link": true
    },
    "kernelspec": {
      "name": "python3",
      "display_name": "Python 3"
    }
  },
  "cells": [
    {
      "cell_type": "markdown",
      "metadata": {
        "id": "view-in-github",
        "colab_type": "text"
      },
      "source": [
        "<a href=\"https://colab.research.google.com/github/Jericohm/daa_2021_1/blob/master/21Octubre.ipynb\" target=\"_parent\"><img src=\"https://colab.research.google.com/assets/colab-badge.svg\" alt=\"Open In Colab\"/></a>"
      ]
    },
    {
      "cell_type": "code",
      "metadata": {
        "id": "O-4hcW_galPX",
        "outputId": "50376de3-5656-4beb-d78f-fa8db34befd5",
        "colab": {
          "base_uri": "https://localhost:8080/",
          "height": 119
        }
      },
      "source": [
        "from time import time\n",
        "def ejemplo2( n ):\n",
        "    contador = 0\n",
        "    for i in range( n ) :\n",
        "        for j in range( n ) :\n",
        "            contador += 1\n",
        "    return contador\n",
        "\n",
        "def ejemplo3( n ):\n",
        "  x = n * 2\n",
        "  y = 0\n",
        "  for m in range (100):\n",
        "    y = x - n\n",
        "  return y\n",
        "\n",
        "def ejemplo4( n ):\n",
        "    x = 3 * 3.1416 + n\n",
        "    y = x + 3 * 3 - n\n",
        "    z = x + y\n",
        "    return z\n",
        "\n",
        "def ejemplo5( x ):\n",
        "    n = 10\n",
        "    for j in range( 0 , x , 1 ):\n",
        "        n = j + n\n",
        "    return n\n",
        "\n",
        "def ejemplo6( n ):\n",
        "    start_time = time()\n",
        "    data=[[[1 for x in range(n)] for x in range(n)]\n",
        "          for x in range(n)]\n",
        "    suma = 0\n",
        "    for d in range(n):\n",
        "        for r in range(n):\n",
        "            for c in range(n):\n",
        "                suma += data[d][r][c]\n",
        "    elapsed_time = time() - start_time\n",
        "    print(\"Tiempo transcurrido: %0.10f segundos.\" % elapsed_time)\n",
        "    return suma    \n",
        "\n",
        "def main():\n",
        "  h = 200\n",
        "  print(\"Ejemplo 2: \",ejemplo2(h))\n",
        "  print(\"Ejemplo 3: \",ejemplo3(h))\n",
        "  print(\"Ejemplo 4: \",ejemplo4(h))\n",
        "  print(\"Ejemplo 5: \",ejemplo5(h))\n",
        "  print(\"Ejemplo 6: \",ejemplo6(h))  \n",
        "main()"
      ],
      "execution_count": 47,
      "outputs": [
        {
          "output_type": "stream",
          "text": [
            "Ejemplo 2:  40000\n",
            "Ejemplo 3:  200\n",
            "Ejemplo 4:  227.8496\n",
            "Ejemplo 5:  19910\n",
            "Tiempo transcurrido: 0.9935142994 segundos.\n",
            "Ejemplo 6:  8000000\n"
          ],
          "name": "stdout"
        }
      ]
    }
  ]
}