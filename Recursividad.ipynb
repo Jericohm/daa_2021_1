{
  "nbformat": 4,
  "nbformat_minor": 0,
  "metadata": {
    "colab": {
      "name": "Untitled6.ipynb",
      "provenance": [],
      "authorship_tag": "ABX9TyMphgi8gX9tg6LF+jKj1tG8",
      "include_colab_link": true
    },
    "kernelspec": {
      "name": "python3",
      "display_name": "Python 3"
    }
  },
  "cells": [
    {
      "cell_type": "markdown",
      "metadata": {
        "id": "view-in-github",
        "colab_type": "text"
      },
      "source": [
        "<a href=\"https://colab.research.google.com/github/Jericohm/daa_2021_1/blob/master/Recursividad.ipynb\" target=\"_parent\"><img src=\"https://colab.research.google.com/assets/colab-badge.svg\" alt=\"Open In Colab\"/></a>"
      ]
    },
    {
      "cell_type": "markdown",
      "metadata": {
        "id": "q2MHElVhMx5T"
      },
      "source": [
        "1. Crear una lista de enteros en Python y realizar la suma con recursividad, el caso base es cuando la lista este vacía.\n",
        "2. Hacer un contador regresivo con recursión.\n",
        "3. Sacar de un ADT pila el valor en la posición media."
      ]
    },
    {
      "cell_type": "code",
      "metadata": {
        "colab": {
          "base_uri": "https://localhost:8080/"
        },
        "id": "TXDBjGMlMpgi",
        "outputId": "30b41ab8-4e57-490e-9f1f-7c7977695f0f"
      },
      "source": [
        "lista = [1,2,3,4,5,6]\n",
        "conta = 0\n",
        "suma = 0\n",
        "\n",
        "def sumRec( suma, conta ):\n",
        "  if conta == len(lista):\n",
        "    print(\"Suma total = \",suma)    \n",
        "  else:\n",
        "    conta += 1\n",
        "    suma += lista[len(lista) - conta]\n",
        "    print( suma )\n",
        "    sumRec(suma, conta)\n",
        "\n",
        "sumRec(suma, conta)"
      ],
      "execution_count": 23,
      "outputs": [
        {
          "output_type": "stream",
          "text": [
            "6\n",
            "11\n",
            "15\n",
            "18\n",
            "20\n",
            "21\n",
            "Suma total =  21\n"
          ],
          "name": "stdout"
        }
      ]
    },
    {
      "cell_type": "code",
      "metadata": {
        "colab": {
          "base_uri": "https://localhost:8080/"
        },
        "id": "kFUMzlp0RsIY",
        "outputId": "3d5363d5-a98e-4073-ce89-a8c03dca4755"
      },
      "source": [
        "conta = 0\n",
        "\n",
        "def cuenRec( n, conta ):\n",
        "  if conta == n:\n",
        "    print(\"Cuenta = \",conta)    \n",
        "  else:\n",
        "    conta += 1\n",
        "    print(conta)\n",
        "    cuenRec(5, conta)\n",
        "\n",
        "cuenRec(5, conta)"
      ],
      "execution_count": 75,
      "outputs": [
        {
          "output_type": "stream",
          "text": [
            "1\n",
            "2\n",
            "3\n",
            "4\n",
            "5\n",
            "Cuenta =  5\n"
          ],
          "name": "stdout"
        }
      ]
    },
    {
      "cell_type": "code",
      "metadata": {
        "colab": {
          "base_uri": "https://localhost:8080/"
        },
        "id": "5Ddx8e77TCpY",
        "outputId": "47d56428-4bb7-4f52-ad16-384b564f7b06"
      },
      "source": [
        "class Pila:\n",
        "\tdef __init__(self):\n",
        "\t  self.items = []\n",
        "\t\n",
        "\tdef isEmpty(self):\n",
        "\t  return self.items == []\n",
        "\t\n",
        "\tdef push(self, item):\n",
        "\t  self.items.insert(0,item)\n",
        "\t\n",
        "\tdef pop(self):\n",
        "\t  return self.items.pop(0)\n",
        "\t\n",
        "\tdef Top(self):    \n",
        "\t  return self.items[0]\n",
        "\t\n",
        "\tdef length(self):\n",
        "\t  return len(self.items)          \n",
        "          \n",
        "bolsa = Pila()\n",
        "bolsa.push(\"hola\")\n",
        "bolsa.push(\"5\")\n",
        "bolsa.push(\"Reporte\")\n",
        "bolsa.push(\"Casa\")\n",
        "bolsa.push(\"1000000\")\n",
        "bolsa.push(\"Perro\")\n",
        "print(\"Tamaño de Pila: \", bolsa.length())\n",
        "\n",
        "def sumRec( bolsa, TamañoOriginal ):  \n",
        "  if bolsa.length()-1 == TamañoOriginal//2:\n",
        "    print(\"Objeto en Posición Media = \",bolsa.Top())    \n",
        "  else: \n",
        "    bolsa.pop()   \n",
        "    sumRec(bolsa, TamañoOriginal)\n",
        "\n",
        "TamañoOriginal = bolsa.length()\n",
        "sumRec(bolsa, TamañoOriginal-1)"
      ],
      "execution_count": 73,
      "outputs": [
        {
          "output_type": "stream",
          "text": [
            "Tamaño de Pila:  6\n",
            "Objeto en Posición Media =  Reporte\n"
          ],
          "name": "stdout"
        }
      ]
    }
  ]
}